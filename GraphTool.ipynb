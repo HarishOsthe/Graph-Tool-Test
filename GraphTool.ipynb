{
 "cells": [
  {
   "cell_type": "markdown",
   "metadata": {},
   "source": [
    "This will output a .png file"
   ]
  },
  {
   "cell_type": "markdown",
   "metadata": {},
   "source": [
    "#### Install Graph-tool by following steps in this link\n",
    "\n",
    "https://git.skewed.de/count0/graph-tool/-/wikis/installation-instructions#debian-ubuntu"
   ]
  },
  {
   "cell_type": "code",
   "execution_count": 14,
   "metadata": {},
   "outputs": [
    {
     "data": {
      "text/plain": [
       "<VertexPropertyMap object with value type 'vector<double>', for Graph 0x7f857a4803c8, at 0x7f857a4c9a58>"
      ]
     },
     "execution_count": 14,
     "metadata": {},
     "output_type": "execute_result"
    }
   ],
   "source": [
    "from graph_tool.all import *\n",
    "\n",
    "g = Graph()\n",
    "\n",
    "v1 = g.add_vertex()\n",
    "v2 = g.add_vertex()\n",
    "\n",
    "e = g.add_edge(v1, v2)\n",
    "\n",
    "v_prop = g.new_vertex_property(\"string\")\n",
    "v_prop[v1] = 'SCPY01'\n",
    "v_prop[v2] = 'SCPY02'\n",
    "\n",
    "e_prop = g.new_edge_property(\"string\")\n",
    "e_prop[e] = 'Any Text'\n",
    "\n",
    "graph_draw(g, vertex_text=v_prop,edge_text=e_prop, vertex_font_size=8, output_size=(200, 200), output=\"two-nodes.png\")"
   ]
  }
 ],
 "metadata": {
  "kernelspec": {
   "display_name": "Python 3",
   "language": "python",
   "name": "python3"
  },
  "language_info": {
   "codemirror_mode": {
    "name": "ipython",
    "version": 3
   },
   "file_extension": ".py",
   "mimetype": "text/x-python",
   "name": "python",
   "nbconvert_exporter": "python",
   "pygments_lexer": "ipython3",
   "version": "3.6.9"
  }
 },
 "nbformat": 4,
 "nbformat_minor": 4
}
